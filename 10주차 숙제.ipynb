{
 "cells": [
  {
   "cell_type": "code",
   "execution_count": null,
   "id": "91999b20-8be8-4bf9-9648-42ffd48c8ce7",
   "metadata": {},
   "outputs": [],
   "source": [
    "result1 = 0\n",
    "result2 = 0"
   ]
  },
  {
   "cell_type": "code",
   "execution_count": null,
   "id": "a68177a8-ecd2-4666-b63e-58becbe2ffc5",
   "metadata": {},
   "outputs": [],
   "source": [
    "def adder1(num):\n",
    "    global result1\n",
    "    result1 += num\n",
    "    return result1"
   ]
  },
  {
   "cell_type": "code",
   "execution_count": null,
   "id": "fb071739-a58f-48b7-99ea-7eac33ab4c27",
   "metadata": {},
   "outputs": [],
   "source": [
    "def adder2(num):\n",
    "    global result2\n",
    "    result2 += num\n",
    "    return result2"
   ]
  },
  {
   "cell_type": "code",
   "execution_count": null,
   "id": "ee182913-6b85-4a4c-861e-aecfa9bde893",
   "metadata": {},
   "outputs": [],
   "source": [
    "adder1(3)"
   ]
  },
  {
   "cell_type": "code",
   "execution_count": null,
   "id": "e4f86535-bf97-4ae1-af60-886427fea165",
   "metadata": {},
   "outputs": [],
   "source": [
    "adder1(4)"
   ]
  },
  {
   "cell_type": "code",
   "execution_count": null,
   "id": "dae5ec20-c5d1-4e73-b7f9-39e68f2b595b",
   "metadata": {},
   "outputs": [],
   "source": [
    "adder2(3)"
   ]
  },
  {
   "cell_type": "code",
   "execution_count": null,
   "id": "b995bd7e-92a9-4a14-b666-ab171ec2666a",
   "metadata": {},
   "outputs": [],
   "source": [
    "adder2(4)"
   ]
  },
  {
   "cell_type": "code",
   "execution_count": null,
   "id": "d5fe1ba7-53a8-404e-9874-3a4de3af149b",
   "metadata": {},
   "outputs": [],
   "source": [
    "#클래스 이용"
   ]
  },
  {
   "cell_type": "code",
   "execution_count": null,
   "id": "b06104b2-6787-4c47-a9da-ad5b46204842",
   "metadata": {},
   "outputs": [],
   "source": [
    "class calculator:\n",
    "    def __init__(self): \n",
    "        self.result = 0\n",
    "\n",
    "    def adder(self, num):\n",
    "        self.result += num\n",
    "        return self.result\n",
    "\n",
    "cal1 = calculator()\n",
    "cal2 = calculator()\n",
    "\n",
    "print(cal1.adder(3))\n",
    "print(cal1.adder(4))\n",
    "print(cal2.adder(3))\n",
    "print(cal2.adder(7))"
   ]
  },
  {
   "cell_type": "code",
   "execution_count": null,
   "id": "2e755b05-dcfd-4493-ab58-8cc46cbbd3ef",
   "metadata": {},
   "outputs": [],
   "source": [
    "class Service:\n",
    "    secret = \"지구는 내일 멸망한다.\"\n",
    "\n",
    "    \n",
    "    def setname(self, name):\n",
    "        self.name = name\n",
    "    \n",
    "    def sum(self, a ,b ):\n",
    "        result = a+b\n",
    "        print(\"%s님, %s+ %s = %s이다.\" % (self.name, a, b , result))\n"
   ]
  },
  {
   "cell_type": "code",
   "execution_count": null,
   "id": "6f1ef918-dfdf-4774-883e-3553f7ede11f",
   "metadata": {},
   "outputs": [],
   "source": [
    "an = Service()"
   ]
  },
  {
   "cell_type": "code",
   "execution_count": null,
   "id": "ae387394-06e4-469f-ad31-6deedfab9655",
   "metadata": {},
   "outputs": [],
   "source": [
    "an.sum(1, 1)"
   ]
  },
  {
   "cell_type": "code",
   "execution_count": null,
   "id": "596decf7-8a2a-4b52-97ca-ec489ab9da19",
   "metadata": {},
   "outputs": [],
   "source": [
    "s = Service()"
   ]
  },
  {
   "cell_type": "code",
   "execution_count": null,
   "id": "52b12f2c-f6e3-4117-9ee4-e8a4b159c877",
   "metadata": {},
   "outputs": [],
   "source": [
    "s.secret\n"
   ]
  },
  {
   "cell_type": "code",
   "execution_count": null,
   "id": "d6b2b21f-6aa9-427f-99e7-48211b31e808",
   "metadata": {},
   "outputs": [],
   "source": [
    "#클래스 내부의 함수(매서드)"
   ]
  },
  {
   "cell_type": "code",
   "execution_count": null,
   "id": "f22bc877-739e-47e7-b49c-0ba8e79cce57",
   "metadata": {},
   "outputs": [],
   "source": [
    "an.setname(\"머털도사\")"
   ]
  },
  {
   "cell_type": "code",
   "execution_count": null,
   "id": "e34db73d-2ef3-4991-88d0-ed8d6b66f9c0",
   "metadata": {},
   "outputs": [],
   "source": [
    "an.sum(1, 1)"
   ]
  },
  {
   "cell_type": "code",
   "execution_count": null,
   "id": "8671de06-d59e-4b64-a0ef-1d917bed8d9f",
   "metadata": {},
   "outputs": [],
   "source": [
    "class FourCal:\n",
    "    pass"
   ]
  },
  {
   "cell_type": "code",
   "execution_count": null,
   "id": "5025300d-326f-44e4-b1e0-a6ab0c79b677",
   "metadata": {},
   "outputs": [],
   "source": [
    "a = FourCal()"
   ]
  },
  {
   "cell_type": "code",
   "execution_count": null,
   "id": "68cb0c1a-3fe3-4ae2-900e-3ad04c94a4c3",
   "metadata": {},
   "outputs": [],
   "source": [
    "type(a)"
   ]
  },
  {
   "cell_type": "code",
   "execution_count": 1,
   "id": "507b5b45-bb7e-4ccd-bad8-8791432f705e",
   "metadata": {},
   "outputs": [],
   "source": [
    "class FourCal:\n",
    "    def setdata(self, first, second):\n",
    "        self.first = first\n",
    "        self.second = second\n",
    "\n",
    "    def sum(self):\n",
    "        result = self.first + self.second\n",
    "        return result\n",
    "\n",
    "    def mul(self):\n",
    "        result = self.first * self.second\n",
    "        return result\n",
    "\n",
    "    def sub(self): \n",
    "        result = self.first - self.second\n",
    "        return result\n",
    "\n",
    "    def div(self):\n",
    "        result = self.first / self.second\n",
    "        return result"
   ]
  },
  {
   "cell_type": "code",
   "execution_count": 2,
   "id": "de16738f-a6cf-43dc-a96a-8b8540867700",
   "metadata": {},
   "outputs": [],
   "source": [
    "a = FourCal()\n",
    "a.setdata(4,2)"
   ]
  },
  {
   "cell_type": "code",
   "execution_count": 4,
   "id": "5fe0c245-b78d-4f8b-93e7-3de64e7fa09e",
   "metadata": {},
   "outputs": [
    {
     "name": "stdout",
     "output_type": "stream",
     "text": [
      "4\n"
     ]
    }
   ],
   "source": [
    "print(a.first)"
   ]
  },
  {
   "cell_type": "code",
   "execution_count": 5,
   "id": "ac7bb338-5910-4902-936f-012bde921da6",
   "metadata": {},
   "outputs": [
    {
     "name": "stdout",
     "output_type": "stream",
     "text": [
      "2\n"
     ]
    }
   ],
   "source": [
    "print(a.second)"
   ]
  },
  {
   "cell_type": "code",
   "execution_count": 6,
   "id": "a9e17803-d43d-4af0-b3c3-3b10289445aa",
   "metadata": {},
   "outputs": [
    {
     "name": "stdout",
     "output_type": "stream",
     "text": [
      "6\n"
     ]
    }
   ],
   "source": [
    "print(a.sum())"
   ]
  },
  {
   "cell_type": "code",
   "execution_count": 7,
   "id": "10b87e9a-49f3-4067-924b-86366014fd03",
   "metadata": {},
   "outputs": [
    {
     "name": "stdout",
     "output_type": "stream",
     "text": [
      "8\n"
     ]
    }
   ],
   "source": [
    "print(a.mul())"
   ]
  },
  {
   "cell_type": "code",
   "execution_count": 8,
   "id": "e15f19f3-1801-4746-a892-cb34792c6a96",
   "metadata": {},
   "outputs": [
    {
     "name": "stdout",
     "output_type": "stream",
     "text": [
      "2\n"
     ]
    }
   ],
   "source": [
    "print(a.sub())"
   ]
  },
  {
   "cell_type": "code",
   "execution_count": 9,
   "id": "3aea1a60-7f58-462e-8d0c-275049efa0b2",
   "metadata": {},
   "outputs": [
    {
     "name": "stdout",
     "output_type": "stream",
     "text": [
      "2.0\n"
     ]
    }
   ],
   "source": [
    "print(a.div())"
   ]
  },
  {
   "cell_type": "code",
   "execution_count": null,
   "id": "a5a53d80-7b0d-4cc2-b5b9-e1b94cfa5f8b",
   "metadata": {},
   "outputs": [],
   "source": []
  }
 ],
 "metadata": {
  "kernelspec": {
   "display_name": "Python 3 (ipykernel)",
   "language": "python",
   "name": "python3"
  },
  "language_info": {
   "codemirror_mode": {
    "name": "ipython",
    "version": 3
   },
   "file_extension": ".py",
   "mimetype": "text/x-python",
   "name": "python",
   "nbconvert_exporter": "python",
   "pygments_lexer": "ipython3",
   "version": "3.11.5"
  }
 },
 "nbformat": 4,
 "nbformat_minor": 5
}
