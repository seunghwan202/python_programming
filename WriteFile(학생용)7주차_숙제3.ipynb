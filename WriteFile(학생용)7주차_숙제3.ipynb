{
  "nbformat": 4,
  "nbformat_minor": 0,
  "metadata": {
    "kernelspec": {
      "display_name": "Python 3",
      "language": "python",
      "name": "python3"
    },
    "language_info": {
      "codemirror_mode": {
        "name": "ipython",
        "version": 3
      },
      "file_extension": ".py",
      "mimetype": "text/x-python",
      "name": "python",
      "nbconvert_exporter": "python",
      "pygments_lexer": "ipython3",
      "version": "3.6.6"
    },
    "colab": {
      "provenance": [],
      "include_colab_link": true
    }
  },
  "cells": [
    {
      "cell_type": "markdown",
      "metadata": {
        "id": "view-in-github",
        "colab_type": "text"
      },
      "source": [
        "<a href=\"https://colab.research.google.com/github/seunghwan202/python_programming/blob/main/WriteFile(%E1%84%92%E1%85%A1%E1%86%A8%E1%84%89%E1%85%A2%E1%86%BC%E1%84%8B%E1%85%AD%E1%86%BC)7%EC%A3%BC%EC%B0%A8_%EC%88%99%EC%A0%9C3.ipynb\" target=\"_parent\"><img src=\"https://colab.research.google.com/assets/colab-badge.svg\" alt=\"Open In Colab\"/></a>"
      ]
    },
    {
      "cell_type": "markdown",
      "metadata": {
        "id": "42MVnk4tbl2I"
      },
      "source": [
        "<h1>Write and Save Files in Python</h1>"
      ]
    },
    {
      "cell_type": "markdown",
      "metadata": {
        "id": "XR5RCQ83bl2I"
      },
      "source": [
        "<p><strong>Welcome!</strong> This notebook will teach you about write the text to file in the Python Programming Language. By the end of this lab, you'll know how to write to file and copy the file.</p>"
      ]
    },
    {
      "cell_type": "markdown",
      "metadata": {
        "id": "ZIcs4ZTDbl2J"
      },
      "source": [
        "<h2 id=\"write\">Writing Files</h2>"
      ]
    },
    {
      "cell_type": "markdown",
      "metadata": {
        "id": "CF3i1QhZbl2K"
      },
      "source": [
        " We can open a file object using the method <code>write()</code> to save the text file to a list. To write the mode, argument must be set to write <b>w</b>. Let’s write a file <b>example2.txt</b> with the line: <b>“This is line A”</b>"
      ]
    },
    {
      "cell_type": "code",
      "metadata": {
        "id": "aYKRvAC-bxwU",
        "colab": {
          "base_uri": "https://localhost:8080/"
        },
        "outputId": "d4af7006-273f-4969-91ff-a75a4ca9358c"
      },
      "source": [
        "from google.colab import drive\n",
        "drive.mount('/content/gdrive')"
      ],
      "execution_count": 1,
      "outputs": [
        {
          "output_type": "stream",
          "name": "stdout",
          "text": [
            "Mounted at /content/gdrive\n"
          ]
        }
      ]
    },
    {
      "cell_type": "code",
      "metadata": {
        "id": "vZSTGB0Nbl2L"
      },
      "source": [
        "# Write line to file\n",
        "\n",
        "with open('/content/gdrive/My Drive/Colab Notebooks/example2.txt', 'w') as writefile:\n",
        "    writefile.write(\"This is line A\")"
      ],
      "execution_count": 2,
      "outputs": []
    },
    {
      "cell_type": "markdown",
      "metadata": {
        "id": "B7ywmRYCbl2O"
      },
      "source": [
        " We can read the file to see if it worked:"
      ]
    },
    {
      "cell_type": "code",
      "metadata": {
        "id": "9rKLqRV4bl2P",
        "colab": {
          "base_uri": "https://localhost:8080/"
        },
        "outputId": "b4b6e8b8-65bf-4855-da70-5ddad53d9e11"
      },
      "source": [
        "# Read file\n",
        "\n",
        "with open('/content/gdrive/My Drive/Colab Notebooks/example2.txt', 'r') as testwritefile:\n",
        "    print(testwritefile.read())"
      ],
      "execution_count": 3,
      "outputs": [
        {
          "output_type": "stream",
          "name": "stdout",
          "text": [
            "This is line A\n"
          ]
        }
      ]
    },
    {
      "cell_type": "markdown",
      "metadata": {
        "id": "1ECLFfrubl2R"
      },
      "source": [
        "We can write multiple lines:"
      ]
    },
    {
      "cell_type": "code",
      "metadata": {
        "id": "FJgIdzzIbl2S"
      },
      "source": [
        "# Write lines to file\n",
        "\n",
        "with open('/content/gdrive/My Drive/Colab Notebooks/example10.txt', 'w') as writefile:\n",
        "    writefile.write(\"This is line A\\n\")\n",
        "    writefile.write(\"This is line B\\n\")\n",
        "    writefile.write(\"This is line 10\\n\")"
      ],
      "execution_count": 4,
      "outputs": []
    },
    {
      "cell_type": "markdown",
      "metadata": {
        "id": "nKSO8afNbl2U"
      },
      "source": [
        "The method <code>.write()</code> works similar to the method <code>.readline()</code>, except instead of reading a new line it writes a new line. The process is illustrated in the figure , the different colour coding of the grid represents a new line added to the file after each method call."
      ]
    },
    {
      "cell_type": "markdown",
      "metadata": {
        "id": "ZQtEkttnbl2V"
      },
      "source": [
        "<img src=\"https://s3-api.us-geo.objectstorage.softlayer.net/cf-courses-data/CognitiveClass/PY0101EN/Chapter%204/Images/WriteLine.png\" width=\"500\" />"
      ]
    },
    {
      "cell_type": "markdown",
      "metadata": {
        "id": "LvJAu2n8bl2V"
      },
      "source": [
        "You can check the file to see if your results are correct"
      ]
    },
    {
      "cell_type": "code",
      "metadata": {
        "id": "EQBM_Ynabl2W",
        "colab": {
          "base_uri": "https://localhost:8080/"
        },
        "outputId": "bba630b4-368d-4086-c38b-c462a23764ef"
      },
      "source": [
        "# Check whether write to file\n",
        "\n",
        "with open('/content/gdrive/My Drive/Colab Notebooks/example2.txt', 'r') as testwritefile:\n",
        "    print(testwritefile.read())"
      ],
      "execution_count": 5,
      "outputs": [
        {
          "output_type": "stream",
          "name": "stdout",
          "text": [
            "This is line A\n"
          ]
        }
      ]
    },
    {
      "cell_type": "markdown",
      "metadata": {
        "id": "2JpmxZ8lbl2Y"
      },
      "source": [
        " By setting the mode argument to append **a**  you can append a new line as follows:"
      ]
    },
    {
      "cell_type": "code",
      "metadata": {
        "id": "lO4FG7G0bl2Z"
      },
      "source": [
        "# Write a new line to text file\n",
        "\n",
        "with open('/content/gdrive/My Drive/Colab Notebooks/example2.txt', 'a') as testwritefile:\n",
        "    testwritefile.write(\"This is line C\\n\")"
      ],
      "execution_count": 6,
      "outputs": []
    },
    {
      "cell_type": "markdown",
      "metadata": {
        "id": "KXsBtnp6bl2c"
      },
      "source": [
        " You can verify the file has changed by running the following cell:"
      ]
    },
    {
      "cell_type": "code",
      "metadata": {
        "id": "QR21o9UVbl2c",
        "colab": {
          "base_uri": "https://localhost:8080/"
        },
        "outputId": "30ad4c9c-cda8-481d-8c4b-842bf51df2c6"
      },
      "source": [
        "# Verify if the new line is in the text file\n",
        "\n",
        "with open('/content/gdrive/My Drive/Colab Notebooks/example2.txt', 'r') as testwritefile:\n",
        "    print(testwritefile.read())"
      ],
      "execution_count": 7,
      "outputs": [
        {
          "output_type": "stream",
          "name": "stdout",
          "text": [
            "This is line AThis is line C\n",
            "\n"
          ]
        }
      ]
    },
    {
      "cell_type": "markdown",
      "metadata": {
        "id": "LLbnpgkabl2f"
      },
      "source": [
        " We write a list to a <b>.txt</b> file  as follows:"
      ]
    },
    {
      "cell_type": "code",
      "metadata": {
        "id": "0DSXx_v1bl2f",
        "colab": {
          "base_uri": "https://localhost:8080/"
        },
        "outputId": "0ec78be5-3346-4325-96b0-9b914421ef23"
      },
      "source": [
        "# Sample list of text\n",
        "\n",
        "Lines = [\"This is line A\\n\", \"This is line B\\n\", \"This is line C\\n\"]\n",
        "Lines"
      ],
      "execution_count": 8,
      "outputs": [
        {
          "output_type": "execute_result",
          "data": {
            "text/plain": [
              "['This is line A\\n', 'This is line B\\n', 'This is line C\\n']"
            ]
          },
          "metadata": {},
          "execution_count": 8
        }
      ]
    },
    {
      "cell_type": "code",
      "metadata": {
        "id": "DB55tALYbl2h",
        "colab": {
          "base_uri": "https://localhost:8080/"
        },
        "outputId": "39c2c283-71ea-422c-dde4-afe2bcf40eca"
      },
      "source": [
        "# Write the strings in the list to text file\n",
        "\n",
        "with open('/content/gdrive/My Drive/Colab Notebooks/example11.txt', 'w') as writefile:\n",
        "    for line in Lines:\n",
        "        print(line)\n",
        "        writefile.write(line)"
      ],
      "execution_count": 9,
      "outputs": [
        {
          "output_type": "stream",
          "name": "stdout",
          "text": [
            "This is line A\n",
            "\n",
            "This is line B\n",
            "\n",
            "This is line C\n",
            "\n"
          ]
        }
      ]
    },
    {
      "cell_type": "markdown",
      "metadata": {
        "id": "gDSC2r5Gbl2l"
      },
      "source": [
        " We can verify the file is written by reading it and printing out the values:  "
      ]
    },
    {
      "cell_type": "code",
      "metadata": {
        "id": "VkvMQbG0bl2l",
        "colab": {
          "base_uri": "https://localhost:8080/"
        },
        "outputId": "861a58bf-b44a-44e8-9831-7ba6bd391adf"
      },
      "source": [
        "# Verify if writing to file is successfully executed\n",
        "\n",
        "with open('/content/gdrive/My Drive/Colab Notebooks/example11.txt', 'r') as testwritefile:\n",
        "    print(testwritefile.read())"
      ],
      "execution_count": 10,
      "outputs": [
        {
          "output_type": "stream",
          "name": "stdout",
          "text": [
            "This is line A\n",
            "This is line B\n",
            "This is line C\n",
            "\n"
          ]
        }
      ]
    },
    {
      "cell_type": "markdown",
      "metadata": {
        "id": "bHBZWeAmbl2n"
      },
      "source": [
        "We can again append to the file by changing the second parameter to <b>a</b>. This adds the code:"
      ]
    },
    {
      "cell_type": "code",
      "metadata": {
        "id": "pckArKDibl2o"
      },
      "source": [
        "# Append the line to the file\n",
        "\n",
        "with open('/content/gdrive/My Drive/Colab Notebooks/example11.txt', 'a') as testwritefile:\n",
        "    testwritefile.write(\"This is line D\\n\")"
      ],
      "execution_count": 11,
      "outputs": []
    },
    {
      "cell_type": "markdown",
      "metadata": {
        "id": "d3Z87L3jbl2q"
      },
      "source": [
        "We can see the results of appending the file:"
      ]
    },
    {
      "cell_type": "code",
      "metadata": {
        "id": "tijFPWqHbl2q",
        "colab": {
          "base_uri": "https://localhost:8080/"
        },
        "outputId": "fab6d5cf-bd56-41ee-ee7f-71a2d499754e"
      },
      "source": [
        "# Verify if the appending is successfully executed\n",
        "\n",
        "with open('/content/gdrive/My Drive/Colab Notebooks/example11.txt', 'r') as testwritefile:\n",
        "    print(testwritefile.read())"
      ],
      "execution_count": 17,
      "outputs": [
        {
          "output_type": "stream",
          "name": "stdout",
          "text": [
            "This is line A\n",
            "This is line B\n",
            "This is line C\n",
            "This is line D\n",
            "\n"
          ]
        }
      ]
    },
    {
      "cell_type": "markdown",
      "metadata": {
        "id": "WGeY8VuZbl2s"
      },
      "source": [
        "<hr>"
      ]
    },
    {
      "cell_type": "markdown",
      "metadata": {
        "id": "5mndIszabl2s"
      },
      "source": [
        "<h2 id=\"copy\">Copy a File</h2>"
      ]
    },
    {
      "cell_type": "markdown",
      "metadata": {
        "id": "JOISv-n8bl2t"
      },
      "source": [
        "Let's copy the file <b>Example11.txt</b> to the file <b>Example12.txt</b>:"
      ]
    },
    {
      "cell_type": "code",
      "metadata": {
        "id": "lxgmlnnMbl2t"
      },
      "source": [
        "# Copy file to another\n",
        "\n",
        "with open('/content/gdrive/My Drive/Colab Notebooks/example11.txt','r') as readfile:\n",
        "    with open('/content/gdrive/My Drive/Colab Notebooks/example12.txt','w') as writefile:\n",
        "          for line in readfile:\n",
        "                writefile.write(line)"
      ],
      "execution_count": 13,
      "outputs": []
    },
    {
      "cell_type": "markdown",
      "metadata": {
        "id": "xPLruqWRbl2x"
      },
      "source": [
        "We can read the file to see if everything works:"
      ]
    },
    {
      "cell_type": "code",
      "metadata": {
        "id": "HIVsEvjbbl2x",
        "colab": {
          "base_uri": "https://localhost:8080/"
        },
        "outputId": "e3a6132e-9440-48d9-e849-7ccc8fe76006"
      },
      "source": [
        "# Verify if the copy is successfully executed\n",
        "\n",
        "with open('/content/gdrive/My Drive/Colab Notebooks/example12.txt','r') as testwritefile:\n",
        "    print(testwritefile.read())"
      ],
      "execution_count": 14,
      "outputs": [
        {
          "output_type": "stream",
          "name": "stdout",
          "text": [
            "This is line A\n",
            "This is line B\n",
            "This is line C\n",
            "This is line D\n",
            "\n"
          ]
        }
      ]
    },
    {
      "cell_type": "code",
      "source": [
        "\n",
        "with open('/content/gdrive/My Drive/Colab Notebooks/example12.txt','r') as testwritefile:\n",
        "    print(testwritefile.read())"
      ],
      "metadata": {
        "colab": {
          "base_uri": "https://localhost:8080/"
        },
        "id": "PPAmTuuw8925",
        "outputId": "b5b13675-14d5-4e5c-ce4c-4c711783e714"
      },
      "execution_count": 15,
      "outputs": [
        {
          "output_type": "stream",
          "name": "stdout",
          "text": [
            "This is line A\n",
            "This is line B\n",
            "This is line C\n",
            "This is line D\n",
            "\n"
          ]
        }
      ]
    },
    {
      "cell_type": "markdown",
      "metadata": {
        "id": "vygf_Uuvbl20"
      },
      "source": [
        " After reading files, we can also write data into files and save them in different file formats like **.txt, .csv, .xls (for excel files) etc**. Let's take a look at some examples."
      ]
    },
    {
      "cell_type": "markdown",
      "metadata": {
        "id": "SN76RISObl20"
      },
      "source": [
        "Now go to the directory to ensure the <b>.txt</b> file exists and contains the summary data that we wrote."
      ]
    },
    {
      "cell_type": "markdown",
      "metadata": {
        "id": "s3Vv2FZwbl20"
      },
      "source": [
        "<hr>\n",
        "<h2>The last exercise!</h2>\n",
        "<p>Congratulations, you have completed your first lesson and hands-on lab in Python. However, there is one more thing you need to do. The Data Science community encourages sharing work. The best way to share and showcase your work is to share it on GitHub. By sharing your notebook on GitHub you are not only building your reputation with fellow data scientists, but you can also show it off when applying for a job. Even though this was your first piece of work, it is never too early to start building good habits. Please submit all your exercises to Github & let the traces in our LMS, so for me to access your work\n",
        "<hr>"
      ]
    },
    {
      "cell_type": "markdown",
      "metadata": {
        "id": "GdHtaqELbl23"
      },
      "source": [
        "<hr>"
      ]
    },
    {
      "cell_type": "markdown",
      "metadata": {
        "id": "WtZHxuigbl23"
      },
      "source": [
        "<p>Copyright &copy; 2023 RYU HOKYOUNG based on 2018 IBM Developer Skills Network. This notebook and its source code are released under the terms of the <a href=\"https://cognitiveclass.ai/mit-license/\">MIT License</a>.</p>"
      ]
    }
  ]
}