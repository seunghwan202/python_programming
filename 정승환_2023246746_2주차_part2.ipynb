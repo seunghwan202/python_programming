{
  "nbformat": 4,
  "nbformat_minor": 0,
  "metadata": {
    "colab": {
      "provenance": [],
      "authorship_tag": "ABX9TyPSo+7BpFX2DeaLhlCnF8NT",
      "include_colab_link": true
    },
    "kernelspec": {
      "name": "python3",
      "display_name": "Python 3"
    },
    "language_info": {
      "name": "python"
    }
  },
  "cells": [
    {
      "cell_type": "markdown",
      "metadata": {
        "id": "view-in-github",
        "colab_type": "text"
      },
      "source": [
        "<a href=\"https://colab.research.google.com/github/seunghwan202/python_programming/blob/main/%EC%A0%95%EC%8A%B9%ED%99%98_2023246746_2%EC%A3%BC%EC%B0%A8_part2.ipynb\" target=\"_parent\"><img src=\"https://colab.research.google.com/assets/colab-badge.svg\" alt=\"Open In Colab\"/></a>"
      ]
    },
    {
      "cell_type": "markdown",
      "source": [
        "# Exercise 2 (Types): Get the object type"
      ],
      "metadata": {
        "id": "vNL8rdAtW49X"
      }
    },
    {
      "cell_type": "code",
      "source": [
        "type(12.0) #실수입니다."
      ],
      "metadata": {
        "colab": {
          "base_uri": "https://localhost:8080/"
        },
        "id": "hP5GFFnhXE5l",
        "outputId": "3d818341-1c4c-4919-df17-7315f9a87368"
      },
      "execution_count": 3,
      "outputs": [
        {
          "output_type": "execute_result",
          "data": {
            "text/plain": [
              "float"
            ]
          },
          "metadata": {},
          "execution_count": 3
        }
      ]
    },
    {
      "cell_type": "code",
      "source": [
        "type(-1) #정수입니다."
      ],
      "metadata": {
        "colab": {
          "base_uri": "https://localhost:8080/"
        },
        "id": "GwMQN3s2XgEH",
        "outputId": "46e7ce54-9282-43bf-9867-d362ad1b9b18"
      },
      "execution_count": 4,
      "outputs": [
        {
          "output_type": "execute_result",
          "data": {
            "text/plain": [
              "int"
            ]
          },
          "metadata": {},
          "execution_count": 4
        }
      ]
    },
    {
      "cell_type": "code",
      "source": [
        "import sys\n",
        "sys.float_info\n"
      ],
      "metadata": {
        "colab": {
          "base_uri": "https://localhost:8080/"
        },
        "id": "415KUDqmXr7_",
        "outputId": "75c6fd9a-35ab-49ef-d62a-2d0ff09b107d"
      },
      "execution_count": 7,
      "outputs": [
        {
          "output_type": "execute_result",
          "data": {
            "text/plain": [
              "sys.float_info(max=1.7976931348623157e+308, max_exp=1024, max_10_exp=308, min=2.2250738585072014e-308, min_exp=-1021, min_10_exp=-307, dig=15, mant_dig=53, epsilon=2.220446049250313e-16, radix=2, rounds=1)"
            ]
          },
          "metadata": {},
          "execution_count": 7
        }
      ]
    },
    {
      "cell_type": "code",
      "source": [
        "float(2) #실수로 변환"
      ],
      "metadata": {
        "colab": {
          "base_uri": "https://localhost:8080/"
        },
        "id": "zA37kdb_YNPk",
        "outputId": "0cfc8aac-6255-4ff7-ebb1-a9b547f18fac"
      },
      "execution_count": 8,
      "outputs": [
        {
          "output_type": "execute_result",
          "data": {
            "text/plain": [
              "2.0"
            ]
          },
          "metadata": {},
          "execution_count": 8
        }
      ]
    },
    {
      "cell_type": "code",
      "source": [
        "int(2.5) #정수로 변환"
      ],
      "metadata": {
        "colab": {
          "base_uri": "https://localhost:8080/"
        },
        "id": "mlSW82UXYjmT",
        "outputId": "23e4cfd1-c36a-4648-909a-24641b39c263"
      },
      "execution_count": 9,
      "outputs": [
        {
          "output_type": "execute_result",
          "data": {
            "text/plain": [
              "2"
            ]
          },
          "metadata": {},
          "execution_count": 9
        }
      ]
    },
    {
      "cell_type": "code",
      "source": [
        "type (int(\"1\")) #문자열"
      ],
      "metadata": {
        "colab": {
          "base_uri": "https://localhost:8080/"
        },
        "id": "BuuqFfRGZCM5",
        "outputId": "dbd1811c-96f2-44a6-aa80-af1518e0f064"
      },
      "execution_count": 15,
      "outputs": [
        {
          "output_type": "execute_result",
          "data": {
            "text/plain": [
              "int"
            ]
          },
          "metadata": {},
          "execution_count": 15
        }
      ]
    },
    {
      "cell_type": "code",
      "source": [
        "type(True)"
      ],
      "metadata": {
        "colab": {
          "base_uri": "https://localhost:8080/"
        },
        "id": "FSPGJS7saFOJ",
        "outputId": "731eee05-ab6c-4981-eda8-63f40373a017"
      },
      "execution_count": 16,
      "outputs": [
        {
          "output_type": "execute_result",
          "data": {
            "text/plain": [
              "bool"
            ]
          },
          "metadata": {},
          "execution_count": 16
        }
      ]
    },
    {
      "cell_type": "code",
      "source": [
        "type(False)"
      ],
      "metadata": {
        "colab": {
          "base_uri": "https://localhost:8080/"
        },
        "id": "h8bhCZuPaKFz",
        "outputId": "2a075f58-0cf4-4cee-f556-b5e4d3e4d749"
      },
      "execution_count": 17,
      "outputs": [
        {
          "output_type": "execute_result",
          "data": {
            "text/plain": [
              "bool"
            ]
          },
          "metadata": {},
          "execution_count": 17
        }
      ]
    },
    {
      "cell_type": "markdown",
      "source": [
        "# Exercise 3(Types): Types"
      ],
      "metadata": {
        "id": "5G4xdvHbaaoZ"
      }
    },
    {
      "cell_type": "code",
      "source": [
        "type ( 6/2)"
      ],
      "metadata": {
        "colab": {
          "base_uri": "https://localhost:8080/"
        },
        "id": "cf_2VncyahWp",
        "outputId": "8dbd888c-b914-41e3-af9e-0f08345ef502"
      },
      "execution_count": 18,
      "outputs": [
        {
          "output_type": "execute_result",
          "data": {
            "text/plain": [
              "float"
            ]
          },
          "metadata": {},
          "execution_count": 18
        }
      ]
    },
    {
      "cell_type": "code",
      "source": [
        "type (6 // 2) #바로 정수로 변환"
      ],
      "metadata": {
        "colab": {
          "base_uri": "https://localhost:8080/"
        },
        "id": "5RdJ6ifUaxlD",
        "outputId": "e9344754-aa55-4f59-e818-e5770739a6eb"
      },
      "execution_count": 19,
      "outputs": [
        {
          "output_type": "execute_result",
          "data": {
            "text/plain": [
              "int"
            ]
          },
          "metadata": {},
          "execution_count": 19
        }
      ]
    },
    {
      "cell_type": "code",
      "source": [
        "x = 43 + 60 + 16 + 41\n",
        "print(x)"
      ],
      "metadata": {
        "colab": {
          "base_uri": "https://localhost:8080/"
        },
        "id": "SL8MDMZebh0K",
        "outputId": "49820896-0ec2-42f4-8b12-3d9657d8f92e"
      },
      "execution_count": 20,
      "outputs": [
        {
          "output_type": "stream",
          "name": "stdout",
          "text": [
            "160\n"
          ]
        }
      ]
    },
    {
      "cell_type": "code",
      "source": [
        "y= 6\n",
        "x // y #정수변환"
      ],
      "metadata": {
        "colab": {
          "base_uri": "https://localhost:8080/"
        },
        "id": "EAH_ZjFwbpUx",
        "outputId": "79d537c8-4da9-4f72-81e8-232574bc15b8"
      },
      "execution_count": 21,
      "outputs": [
        {
          "output_type": "execute_result",
          "data": {
            "text/plain": [
              "26"
            ]
          },
          "metadata": {},
          "execution_count": 21
        }
      ]
    },
    {
      "cell_type": "markdown",
      "source": [
        "# Exercise 4(Types): Expression"
      ],
      "metadata": {
        "id": "pBWHW-rkb-aB"
      }
    },
    {
      "cell_type": "markdown",
      "source": [
        "Let\"s write an expressiom that calculated how may hours there are in 160 minutes:"
      ],
      "metadata": {
        "id": "tpi3wJnqcNb1"
      }
    },
    {
      "cell_type": "code",
      "source": [
        "160 // 60\n"
      ],
      "metadata": {
        "colab": {
          "base_uri": "https://localhost:8080/"
        },
        "id": "wt-xudZacZ08",
        "outputId": "d392ead4-04be-4dfb-a635-490ad2b174d8"
      },
      "execution_count": 22,
      "outputs": [
        {
          "output_type": "execute_result",
          "data": {
            "text/plain": [
              "2"
            ]
          },
          "metadata": {},
          "execution_count": 22
        }
      ]
    },
    {
      "cell_type": "markdown",
      "source": [
        "# Excersie 5 (Types): Expression and Variable in Python"
      ],
      "metadata": {
        "id": "HWwLFd2ldrJS"
      }
    },
    {
      "cell_type": "markdown",
      "source": [
        "What is the value of x where x = 3 + 2 * 2"
      ],
      "metadata": {
        "id": "gBsnZgMfd_CY"
      }
    },
    {
      "cell_type": "code",
      "source": [
        " x = 3 + 2 * 2\n",
        " x\n",
        ""
      ],
      "metadata": {
        "colab": {
          "base_uri": "https://localhost:8080/"
        },
        "id": "c-lnLc-PeJHS",
        "outputId": "2c170cf9-3329-4615-ca72-f0694a366e56"
      },
      "execution_count": 23,
      "outputs": [
        {
          "output_type": "execute_result",
          "data": {
            "text/plain": [
              "7"
            ]
          },
          "metadata": {},
          "execution_count": 23
        }
      ]
    },
    {
      "cell_type": "markdown",
      "source": [
        "What is the value of y where y = (3+2)* 2?"
      ],
      "metadata": {
        "id": "FWvT8bVceO7p"
      }
    },
    {
      "cell_type": "code",
      "source": [
        "y = (3+2)*2\n",
        "y\n"
      ],
      "metadata": {
        "colab": {
          "base_uri": "https://localhost:8080/"
        },
        "id": "SOAHc8VueXmZ",
        "outputId": "6990ee83-d3ce-42fa-f581-36147b4e1765"
      },
      "execution_count": 24,
      "outputs": [
        {
          "output_type": "execute_result",
          "data": {
            "text/plain": [
              "10"
            ]
          },
          "metadata": {},
          "execution_count": 24
        }
      ]
    },
    {
      "cell_type": "markdown",
      "source": [
        "What is value of z where z = x+y?"
      ],
      "metadata": {
        "id": "ftz_K62Vees0"
      }
    },
    {
      "cell_type": "code",
      "source": [
        "z = x + y\n",
        "z"
      ],
      "metadata": {
        "colab": {
          "base_uri": "https://localhost:8080/"
        },
        "id": "uJwwd0iCenJz",
        "outputId": "eb6d8e20-ff62-4040-a383-12c4b287a137"
      },
      "execution_count": 25,
      "outputs": [
        {
          "output_type": "execute_result",
          "data": {
            "text/plain": [
              "17"
            ]
          },
          "metadata": {},
          "execution_count": 25
        }
      ]
    }
  ]
}