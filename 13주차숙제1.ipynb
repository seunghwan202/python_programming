{
 "cells": [
  {
   "cell_type": "code",
   "execution_count": 7,
   "id": "d9a220bb-b0a1-4093-b42e-819b935ca0e3",
   "metadata": {},
   "outputs": [
    {
     "name": "stdout",
     "output_type": "stream",
     "text": [
      "menu\n"
     ]
    }
   ],
   "source": [
    "import xml.etree.ElementTree as et\n",
    "tree = et.ElementTree(file='/Users/seunghwanjung/codes(python)/menu.xml')\n",
    "root = tree.getroot()\n",
    "\n",
    "\n",
    "\n",
    "print(root.tag)"
   ]
  },
  {
   "cell_type": "code",
   "execution_count": 2,
   "id": "528540be-c796-49ca-bb20-7ad792b14b56",
   "metadata": {},
   "outputs": [
    {
     "name": "stdout",
     "output_type": "stream",
     "text": [
      "/Users/seunghwanjung/codes(python)\n"
     ]
    }
   ],
   "source": [
    "import os\n",
    "print(os.getcwd())"
   ]
  },
  {
   "cell_type": "code",
   "execution_count": 3,
   "id": "530de5f9-55f0-4f0c-8c84-f722adcdc864",
   "metadata": {},
   "outputs": [
    {
     "data": {
      "text/plain": [
       "xml.etree.ElementTree.Element"
      ]
     },
     "execution_count": 3,
     "metadata": {},
     "output_type": "execute_result"
    }
   ],
   "source": [
    "type(root)"
   ]
  },
  {
   "cell_type": "code",
   "execution_count": 8,
   "id": "961f32ce-b277-465e-bd7e-5ba2557af197",
   "metadata": {},
   "outputs": [
    {
     "name": "stdout",
     "output_type": "stream",
     "text": [
      "tag: breakfast attributes: {'hours': '7-11'}\n",
      "\ttag: item attributes: {'price': '$6.00'}\n",
      "\ttag: item attributes: {'price': '$4.00'}\n",
      "tag: lunch attributes: {'hours': '11-3'}\n",
      "\ttag: item attributes: {'price': '$5.00'}\n",
      "tag: dinner attributes: {'hours': '3-10'}\n",
      "\ttag: item attributes: {'price': '8.00'}\n"
     ]
    }
   ],
   "source": [
    "for child in root:\n",
    "    print('tag:', child.tag, 'attributes:', child.attrib)\n",
    "    for grandchild in child:\n",
    "        print('\\ttag:', grandchild.tag, 'attributes:', grandchild.attrib)"
   ]
  },
  {
   "cell_type": "code",
   "execution_count": 9,
   "id": "68838ef6-e180-4ab4-bd8c-67e3b7391dbf",
   "metadata": {},
   "outputs": [
    {
     "data": {
      "text/plain": [
       "3"
      ]
     },
     "execution_count": 9,
     "metadata": {},
     "output_type": "execute_result"
    }
   ],
   "source": [
    "len(root)"
   ]
  },
  {
   "cell_type": "code",
   "execution_count": 11,
   "id": "209eef14-27db-4eda-8a69-bc8fa00fd3b4",
   "metadata": {},
   "outputs": [
    {
     "data": {
      "text/plain": [
       "2"
      ]
     },
     "execution_count": 11,
     "metadata": {},
     "output_type": "execute_result"
    }
   ],
   "source": [
    "len(root[0])"
   ]
  },
  {
   "cell_type": "code",
   "execution_count": 12,
   "id": "27b4d1e2-a8e5-4efa-8042-97021ed37172",
   "metadata": {},
   "outputs": [
    {
     "name": "stdout",
     "output_type": "stream",
     "text": [
      "<Element 'breakfast' at 0x1063f2520>\n"
     ]
    }
   ],
   "source": [
    "print(root[0])"
   ]
  },
  {
   "cell_type": "code",
   "execution_count": 13,
   "id": "5e7eca29-3d82-4add-8bdb-034501b2d8fe",
   "metadata": {},
   "outputs": [
    {
     "name": "stdout",
     "output_type": "stream",
     "text": [
      "7-11\n"
     ]
    }
   ],
   "source": [
    "print(root[0].get(\"hours\"))"
   ]
  },
  {
   "cell_type": "code",
   "execution_count": 17,
   "id": "b7e089b3-4b27-4323-b8ac-4489ff0c885a",
   "metadata": {},
   "outputs": [
    {
     "name": "stdout",
     "output_type": "stream",
     "text": [
      "['hours']\n"
     ]
    }
   ],
   "source": [
    "print(root[0].keys())"
   ]
  },
  {
   "cell_type": "code",
   "execution_count": 18,
   "id": "e213efb3-cfd1-4961-abf7-9706d2160592",
   "metadata": {},
   "outputs": [
    {
     "name": "stdout",
     "output_type": "stream",
     "text": [
      "[('hours', '7-11')]\n"
     ]
    }
   ],
   "source": [
    "print(root[0].items())"
   ]
  },
  {
   "cell_type": "code",
   "execution_count": 19,
   "id": "5fdb53be-469d-45cd-955f-859c28eada5c",
   "metadata": {},
   "outputs": [
    {
     "name": "stdout",
     "output_type": "stream",
     "text": [
      "<Element 'lunch' at 0x1063f2660>\n",
      "11-3\n",
      "['hours']\n",
      "[('hours', '11-3')]\n"
     ]
    }
   ],
   "source": [
    "lunch = root.find(\"lunch\")\n",
    "print(lunch)\n",
    "print(lunch.get(\"hours\"))\n",
    "print(lunch.keys())\n",
    "print(lunch.items())"
   ]
  },
  {
   "cell_type": "code",
   "execution_count": 20,
   "id": "485fc75e-0749-447a-a9f0-b67441d3d6e3",
   "metadata": {},
   "outputs": [
    {
     "name": "stdout",
     "output_type": "stream",
     "text": [
      "[<Element 'item' at 0x1063f2570>, <Element 'item' at 0x1063f2610>]\n"
     ]
    }
   ],
   "source": [
    "print(root[0].findall('item'))"
   ]
  },
  {
   "cell_type": "code",
   "execution_count": 22,
   "id": "187f86f5-e9e6-4103-a4a7-e24011c57e9e",
   "metadata": {},
   "outputs": [
    {
     "name": "stdout",
     "output_type": "stream",
     "text": [
      "[<Element 'item' at 0x1063f2570>, <Element 'item' at 0x1063f2610>]\n",
      "$6.00\n",
      "breakfast burritos\n",
      "$4.00\n",
      "pancakes\n"
     ]
    }
   ],
   "source": [
    "print(root[0].findall('item'))\n",
    "\n",
    "for item in root[0].findall('item'):\n",
    "    print(item.get('price'))\n",
    "    print(item.text)"
   ]
  },
  {
   "cell_type": "code",
   "execution_count": null,
   "id": "e428b30f-9674-43bc-89fc-1c6d4d47fcf8",
   "metadata": {},
   "outputs": [],
   "source": [
    "#json dump"
   ]
  },
  {
   "cell_type": "code",
   "execution_count": 3,
   "id": "d0392626-d5cb-4d5f-83ec-925c41f03005",
   "metadata": {},
   "outputs": [],
   "source": [
    "import json"
   ]
  },
  {
   "cell_type": "code",
   "execution_count": 4,
   "id": "f237a830-9f36-4482-830e-136b7117989a",
   "metadata": {},
   "outputs": [],
   "source": [
    "j1 = {\"name\":\"정승환\", \"bith\": \"0223\", \"age\": 39}"
   ]
  },
  {
   "cell_type": "code",
   "execution_count": 5,
   "id": "074a7c56-f76f-4def-8e37-97bce779ddc5",
   "metadata": {},
   "outputs": [
    {
     "data": {
      "text/plain": [
       "{'name': '정승환', 'bith': '0223', 'age': 39}"
      ]
     },
     "execution_count": 5,
     "metadata": {},
     "output_type": "execute_result"
    }
   ],
   "source": [
    "j1"
   ]
  },
  {
   "cell_type": "code",
   "execution_count": 6,
   "id": "f9f4327c-4a26-4440-96dd-b78c2ead9594",
   "metadata": {},
   "outputs": [
    {
     "data": {
      "text/plain": [
       "'{\"name\": \"\\\\uc815\\\\uc2b9\\\\ud658\", \"bith\": \"0223\", \"age\": 39}'"
      ]
     },
     "execution_count": 6,
     "metadata": {},
     "output_type": "execute_result"
    }
   ],
   "source": [
    "json.dumps(j1)"
   ]
  },
  {
   "cell_type": "code",
   "execution_count": 8,
   "id": "055e6db5-d83a-4af4-8ab8-e906f0699c5c",
   "metadata": {},
   "outputs": [
    {
     "name": "stdout",
     "output_type": "stream",
     "text": [
      "{\n",
      "  \"name\": \"\\uc815\\uc2b9\\ud658\",\n",
      "  \"bith\": \"0223\",\n",
      "  \"age\": 39\n",
      "}\n"
     ]
    },
    {
     "data": {
      "text/plain": [
       "{'age': 30, 'birth': '0525', 'name': '박띑용'}"
      ]
     },
     "execution_count": 8,
     "metadata": {},
     "output_type": "execute_result"
    }
   ],
   "source": [
    "print(json.dumps(j1, indent=2))\n",
    "{\n",
    "      \"age\": 30,\n",
    "      \"birth\": \"0525\",\n",
    "      \"name\": \"\\ubc15\\ub751\\uc6a9\"\n",
    "}"
   ]
  },
  {
   "cell_type": "code",
   "execution_count": 10,
   "id": "929d6303-3dc2-4c99-ba8f-7f13c123dcdc",
   "metadata": {},
   "outputs": [
    {
     "data": {
      "text/plain": [
       "'[1, 2, 3]'"
      ]
     },
     "execution_count": 10,
     "metadata": {},
     "output_type": "execute_result"
    }
   ],
   "source": [
    "json.dumps([1,2,3])"
   ]
  },
  {
   "cell_type": "code",
   "execution_count": null,
   "id": "63f8cae1-6aea-40bc-af55-224861926920",
   "metadata": {},
   "outputs": [],
   "source": [
    "#json loads"
   ]
  },
  {
   "cell_type": "code",
   "execution_count": 13,
   "id": "f6536791-69f3-4d40-99ad-64653a70e138",
   "metadata": {},
   "outputs": [
    {
     "data": {
      "text/plain": [
       "{'name': '정승환', 'birth': '0223', 'age': 30}"
      ]
     },
     "execution_count": 13,
     "metadata": {},
     "output_type": "execute_result"
    }
   ],
   "source": [
    "j1 = {\"name\": \"정승환\", \"birth\":\"0223\", \"age\":30}\n",
    "d1 = json.dumps(j1)\n",
    "json.loads(d1)"
   ]
  },
  {
   "cell_type": "code",
   "execution_count": 26,
   "id": "c22ee65e-bc24-493f-ae26-2511765b9e65",
   "metadata": {},
   "outputs": [
    {
     "data": {
      "text/plain": [
       "{'name': '정승환', 'birth': '0223', 'age': 39}"
      ]
     },
     "execution_count": 26,
     "metadata": {},
     "output_type": "execute_result"
    }
   ],
   "source": [
    "{\n",
    "  \"name\": \"정승환\",\n",
    "  \"birth\": \"0223\",\n",
    "  \"age\": 39\n",
    "}"
   ]
  },
  {
   "cell_type": "code",
   "execution_count": null,
   "id": "ab0212e5-70a2-4aae-a506-11a7548ff48b",
   "metadata": {},
   "outputs": [],
   "source": [
    "#beautifulsoup"
   ]
  },
  {
   "cell_type": "code",
   "execution_count": 38,
   "id": "6f915f0d-12f9-4419-ba76-43deafe8dcbe",
   "metadata": {},
   "outputs": [
    {
     "name": "stdout",
     "output_type": "stream",
     "text": [
      "<h1>An Interesting Title</h1>\n"
     ]
    }
   ],
   "source": [
    "import ssl\n",
    "from urllib.request import urlopen\n",
    "from bs4 import BeautifulSoup\n",
    "\n",
    "context = ssl._create_unverified_context()\n",
    "html = urlopen(\"http://pythonscraping.com/pages/page1.html\", context=context)\n",
    "bsObj = BeautifulSoup(html.read(), \"html.parser\")\n",
    "print(bsObj.h1)"
   ]
  }
 ],
 "metadata": {
  "kernelspec": {
   "display_name": "Python 3 (ipykernel)",
   "language": "python",
   "name": "python3"
  },
  "language_info": {
   "codemirror_mode": {
    "name": "ipython",
    "version": 3
   },
   "file_extension": ".py",
   "mimetype": "text/x-python",
   "name": "python",
   "nbconvert_exporter": "python",
   "pygments_lexer": "ipython3",
   "version": "3.11.5"
  }
 },
 "nbformat": 4,
 "nbformat_minor": 5
}
