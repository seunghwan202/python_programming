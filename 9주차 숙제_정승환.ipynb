{
 "cells": [
  {
   "cell_type": "code",
   "execution_count": 1,
   "id": "52a8b51c-750e-45d2-b7eb-f115cf873b26",
   "metadata": {},
   "outputs": [],
   "source": [
    "#1부터 5까지의 정수 리스트 만들기"
   ]
  },
  {
   "cell_type": "code",
   "execution_count": 2,
   "id": "424b7de0-380c-4b1f-827d-3e8d32526d48",
   "metadata": {},
   "outputs": [],
   "source": [
    "number_list = []\n",
    "number_list.append(1)\n",
    "number_list.append(2)\n",
    "number_list.append(3)\n",
    "number_list.append(4)\n",
    "number_list.append(5)"
   ]
  },
  {
   "cell_type": "code",
   "execution_count": 4,
   "id": "73c05b42-ec42-48ac-a874-6b61f90b9552",
   "metadata": {},
   "outputs": [],
   "source": [
    "number_list = []\n",
    "for number in range(1,6):\n",
    " number_list.append(number)"
   ]
  },
  {
   "cell_type": "code",
   "execution_count": 5,
   "id": "47179a90-d691-4195-949b-d54eb3b77558",
   "metadata": {},
   "outputs": [],
   "source": [
    "number_list = list(range(1,6))"
   ]
  },
  {
   "cell_type": "code",
   "execution_count": 6,
   "id": "50f728bb-b9c6-40cb-b9f8-6d691c7d8692",
   "metadata": {},
   "outputs": [],
   "source": [
    "number_list = [number for number in range(1,6)]"
   ]
  },
  {
   "cell_type": "code",
   "execution_count": 7,
   "id": "007eb600-3f2b-441d-931d-d8ce705fed75",
   "metadata": {},
   "outputs": [
    {
     "data": {
      "text/plain": [
       "[1, 2, 3, 4, 5]"
      ]
     },
     "execution_count": 7,
     "metadata": {},
     "output_type": "execute_result"
    }
   ],
   "source": [
    "number_list"
   ]
  },
  {
   "cell_type": "code",
   "execution_count": 8,
   "id": "cbe88d29-a4f7-498d-bc4c-d86bc81ac71a",
   "metadata": {},
   "outputs": [],
   "source": [
    "number_list = [number-1 for number in range(1,6)]"
   ]
  },
  {
   "cell_type": "code",
   "execution_count": 9,
   "id": "947cc533-336a-4881-88c7-8e74c74329fe",
   "metadata": {},
   "outputs": [
    {
     "data": {
      "text/plain": [
       "[0, 1, 2, 3, 4]"
      ]
     },
     "execution_count": 9,
     "metadata": {},
     "output_type": "execute_result"
    }
   ],
   "source": [
    "number_list"
   ]
  },
  {
   "cell_type": "code",
   "execution_count": 10,
   "id": "e9e0f75a-48f6-41b4-9405-ced4f1dbfa4f",
   "metadata": {},
   "outputs": [],
   "source": [
    "a_list = []"
   ]
  },
  {
   "cell_type": "code",
   "execution_count": 11,
   "id": "657c584c-bae3-458a-bbf6-982df16c95b9",
   "metadata": {},
   "outputs": [],
   "source": [
    "a_list = [number for number in range(1,6) if number % 2==1]"
   ]
  },
  {
   "cell_type": "code",
   "execution_count": 12,
   "id": "00965672-21ae-4c4a-bf8c-94a530351b45",
   "metadata": {},
   "outputs": [
    {
     "data": {
      "text/plain": [
       "[1, 3, 5]"
      ]
     },
     "execution_count": 12,
     "metadata": {},
     "output_type": "execute_result"
    }
   ],
   "source": [
    "a_list"
   ]
  },
  {
   "cell_type": "code",
   "execution_count": 13,
   "id": "9b959a9c-926b-4ac3-98b9-7e5de728f301",
   "metadata": {},
   "outputs": [],
   "source": [
    "for number in range(1,6):\n",
    "    if number%2 == 1:\n",
    "        a_list.append(number)"
   ]
  },
  {
   "cell_type": "code",
   "execution_count": 14,
   "id": "194ee00e-d2cc-4b7e-a263-5c538dbe5c6a",
   "metadata": {},
   "outputs": [
    {
     "data": {
      "text/plain": [
       "5"
      ]
     },
     "execution_count": 14,
     "metadata": {},
     "output_type": "execute_result"
    }
   ],
   "source": [
    "number"
   ]
  },
  {
   "cell_type": "code",
   "execution_count": null,
   "id": "6ef64fa7-2863-4106-8d9f-44e39ff39806",
   "metadata": {},
   "outputs": [],
   "source": [
    "#list comprehension - 두개의 for"
   ]
  },
  {
   "cell_type": "code",
   "execution_count": 15,
   "id": "349facd3-cded-4c88-b7f4-fefd798ab930",
   "metadata": {},
   "outputs": [
    {
     "name": "stdout",
     "output_type": "stream",
     "text": [
      "1 1\n",
      "1 2\n",
      "2 1\n",
      "2 2\n",
      "3 1\n",
      "3 2\n"
     ]
    }
   ],
   "source": [
    "rows=range(1,4)\n",
    "cols=range(1,3)\n",
    "for row in rows:\n",
    " for col in cols:\n",
    "     print(row, col)"
   ]
  },
  {
   "cell_type": "code",
   "execution_count": 17,
   "id": "faf8d98c-e2e3-4e15-8fcd-88fc6ee5b4de",
   "metadata": {},
   "outputs": [
    {
     "name": "stdout",
     "output_type": "stream",
     "text": [
      "(1, 1)\n",
      "(1, 2)\n",
      "(2, 1)\n",
      "(2, 2)\n",
      "(3, 1)\n",
      "(3, 2)\n"
     ]
    }
   ],
   "source": [
    "rows=range(1,4)\n",
    "cols=range(1,3)\n",
    "cells = [(row, col) for row in rows for col in cols]\n",
    "for cell in cells:\n",
    "    print(cell)"
   ]
  },
  {
   "cell_type": "code",
   "execution_count": 18,
   "id": "b1c0827a-f845-4770-9c02-f53e01c6aa7b",
   "metadata": {},
   "outputs": [
    {
     "data": {
      "text/plain": [
       "[(1, 0),\n",
       " (2, 0),\n",
       " (2, 1),\n",
       " (3, 0),\n",
       " (3, 1),\n",
       " (3, 2),\n",
       " (4, 0),\n",
       " (4, 1),\n",
       " (4, 2),\n",
       " (4, 3)]"
      ]
     },
     "execution_count": 18,
     "metadata": {},
     "output_type": "execute_result"
    }
   ],
   "source": [
    "[(i,j) for i in range(5) for j in range(i)]"
   ]
  },
  {
   "cell_type": "code",
   "execution_count": 19,
   "id": "1e609b52-dea6-47f0-a139-d2040328f22e",
   "metadata": {},
   "outputs": [],
   "source": [
    "#Dictionary comprehension"
   ]
  },
  {
   "cell_type": "code",
   "execution_count": 20,
   "id": "b041f316-978d-4185-9f40-bb08b1332d14",
   "metadata": {},
   "outputs": [],
   "source": [
    "word = 'letters'\n",
    "letter_counts = {letter: word.count(letter) for letter in word}"
   ]
  },
  {
   "cell_type": "code",
   "execution_count": 25,
   "id": "6762ce19-2971-4a07-81ef-089af916fc36",
   "metadata": {},
   "outputs": [
    {
     "data": {
      "text/plain": [
       "{'l': 1, 'e': 2, 't': 2, 'r': 1, 's': 1}"
      ]
     },
     "execution_count": 25,
     "metadata": {},
     "output_type": "execute_result"
    }
   ],
   "source": [
    "letter_counts"
   ]
  },
  {
   "cell_type": "code",
   "execution_count": 33,
   "id": "e4adaae9-4e83-4fc4-9dd7-e39b1470d4ba",
   "metadata": {},
   "outputs": [],
   "source": [
    "word1 = 'letters'\n",
    "letter_counts1 = {letter: word.count(letter) for letter in set(word)}"
   ]
  },
  {
   "cell_type": "code",
   "execution_count": 34,
   "id": "87a3ccaa-f4f5-4bd0-b00c-2f55ae827727",
   "metadata": {},
   "outputs": [
    {
     "data": {
      "text/plain": [
       "{'l': 1, 'r': 1, 'e': 2, 's': 1, 't': 2}"
      ]
     },
     "execution_count": 34,
     "metadata": {},
     "output_type": "execute_result"
    }
   ],
   "source": [
    "letter_counts1"
   ]
  },
  {
   "cell_type": "code",
   "execution_count": 35,
   "id": "623822ad-940a-4f52-a779-12a89240a9f0",
   "metadata": {},
   "outputs": [],
   "source": [
    "#zip을 이용하여 영어-프랑스 사전 만들기"
   ]
  },
  {
   "cell_type": "code",
   "execution_count": 36,
   "id": "15091bb6-fdb0-4c60-9e75-f34a1c94a61c",
   "metadata": {},
   "outputs": [],
   "source": [
    "english = 'Monday', 'Tuesday', 'Wednesday'\n",
    "french = 'Lundi', 'Mardi', 'Mercredi'"
   ]
  },
  {
   "cell_type": "code",
   "execution_count": 38,
   "id": "93356eb1-a8e5-4c76-871c-792b8c8f50bc",
   "metadata": {},
   "outputs": [
    {
     "data": {
      "text/plain": [
       "[('Monday', 'Lundi'), ('Tuesday', 'Mardi'), ('Wednesday', 'Mercredi')]"
      ]
     },
     "execution_count": 38,
     "metadata": {},
     "output_type": "execute_result"
    }
   ],
   "source": [
    "list( zip(english, french) )"
   ]
  },
  {
   "cell_type": "code",
   "execution_count": 39,
   "id": "0d964e79-a107-4ebf-b00e-aeab7dbc3e79",
   "metadata": {},
   "outputs": [
    {
     "data": {
      "text/plain": [
       "{'Monday': 'Lundi', 'Tuesday': 'Mardi', 'Wednesday': 'Mercredi'}"
      ]
     },
     "execution_count": 39,
     "metadata": {},
     "output_type": "execute_result"
    }
   ],
   "source": [
    "dict( zip(english, french) )"
   ]
  },
  {
   "cell_type": "code",
   "execution_count": 40,
   "id": "694d47f6-3109-4cf8-ab07-15907f5cff3e",
   "metadata": {},
   "outputs": [],
   "source": [
    "#docstring"
   ]
  },
  {
   "cell_type": "code",
   "execution_count": 41,
   "id": "4c15bac3-f2e0-4f0e-953c-f6613741a9bd",
   "metadata": {},
   "outputs": [],
   "source": [
    "def echo(anything):\n",
    "    'echo returns its input argument'\n",
    "    return anything"
   ]
  },
  {
   "cell_type": "code",
   "execution_count": 43,
   "id": "d84c939f-5b4f-4937-ad6f-c1af4110c0af",
   "metadata": {},
   "outputs": [],
   "source": [
    "def print_if_true(thing, check):\n",
    "    \"\"\"Prints the first argument if a second argument is true.The operation is:\n",
    "    1. Check whether the *second* argument is true.\n",
    "    2. If it is, print the *first* argument \"\"\"\n",
    "    if check:\n",
    "        print(thing)"
   ]
  },
  {
   "cell_type": "code",
   "execution_count": null,
   "id": "c2719b70-a619-47f8-a4ac-f847e5c0bd9e",
   "metadata": {},
   "outputs": [],
   "source": []
  },
  {
   "cell_type": "code",
   "execution_count": null,
   "id": "e35f6eee-185e-45b8-a6f2-14f62a7e920e",
   "metadata": {},
   "outputs": [],
   "source": []
  }
 ],
 "metadata": {
  "kernelspec": {
   "display_name": "Python 3 (ipykernel)",
   "language": "python",
   "name": "python3"
  },
  "language_info": {
   "codemirror_mode": {
    "name": "ipython",
    "version": 3
   },
   "file_extension": ".py",
   "mimetype": "text/x-python",
   "name": "python",
   "nbconvert_exporter": "python",
   "pygments_lexer": "ipython3",
   "version": "3.11.5"
  }
 },
 "nbformat": 4,
 "nbformat_minor": 5
}
